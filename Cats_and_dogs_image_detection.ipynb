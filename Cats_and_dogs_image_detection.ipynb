{
  "nbformat": 4,
  "nbformat_minor": 0,
  "metadata": {
    "colab": {
      "name": "Cats and dogs image detection",
      "provenance": [],
      "collapsed_sections": [],
      "authorship_tag": "ABX9TyMx85f/zTkyJOyALYhf+hnz",
      "include_colab_link": true
    },
    "kernelspec": {
      "name": "python3",
      "display_name": "Python 3"
    },
    "accelerator": "GPU"
  },
  "cells": [
    {
      "cell_type": "markdown",
      "metadata": {
        "id": "view-in-github",
        "colab_type": "text"
      },
      "source": [
        "<a href=\"https://colab.research.google.com/github/amiralisahraei/Cats-and-dogs-image-detection/blob/main/Cats_and_dogs_image_detection.ipynb\" target=\"_parent\"><img src=\"https://colab.research.google.com/assets/colab-badge.svg\" alt=\"Open In Colab\"/></a>"
      ]
    },
    {
      "cell_type": "markdown",
      "metadata": {
        "id": "cEoSJmUMpxRA"
      },
      "source": [
        "The Classification for cats and dogs"
      ]
    },
    {
      "cell_type": "code",
      "metadata": {
        "id": "z99ab8Kfp3_S"
      },
      "source": [
        "import os, shutil\n",
        "import cv2\n",
        "import glob\n",
        "import numpy as np\n"
      ],
      "execution_count": 1,
      "outputs": []
    },
    {
      "cell_type": "markdown",
      "metadata": {
        "id": "IQuZ6BOmRRrz"
      },
      "source": [
        "Access to Google drive"
      ]
    },
    {
      "cell_type": "code",
      "metadata": {
        "colab": {
          "base_uri": "https://localhost:8080/"
        },
        "id": "6ZgC_zPjp_QM",
        "outputId": "6adae3ff-e3f3-4413-aeea-16d8c165a484"
      },
      "source": [
        "from google.colab import drive\n",
        "drive.mount('/content/gdrive')"
      ],
      "execution_count": 2,
      "outputs": [
        {
          "output_type": "stream",
          "name": "stdout",
          "text": [
            "Mounted at /content/gdrive\n"
          ]
        }
      ]
    },
    {
      "cell_type": "markdown",
      "metadata": {
        "id": "7Gie6KNrRudX"
      },
      "source": [
        "Download and unzip dataset file"
      ]
    },
    {
      "cell_type": "code",
      "metadata": {
        "id": "yHlIACWGtCnK"
      },
      "source": [
        "import os\n",
        "os.environ['KAGGLE_CONFIG_DIR'] = \"/content/gdrive/My Drive/Kaggle\""
      ],
      "execution_count": 3,
      "outputs": []
    },
    {
      "cell_type": "code",
      "metadata": {
        "id": "SsOjnJ7BtTpS",
        "colab": {
          "base_uri": "https://localhost:8080/"
        },
        "outputId": "0b339a8e-5dc6-4df9-f3d4-63a920910fbc"
      },
      "source": [
        "!kaggle datasets download -d biaiscience/dogs-vs-cats"
      ],
      "execution_count": 4,
      "outputs": [
        {
          "output_type": "stream",
          "name": "stdout",
          "text": [
            "Downloading dogs-vs-cats.zip to /content\n",
            " 99% 810M/817M [00:08<00:00, 107MB/s] \n",
            "100% 817M/817M [00:08<00:00, 105MB/s]\n"
          ]
        }
      ]
    },
    {
      "cell_type": "code",
      "metadata": {
        "id": "V4YmhHgd5NPt"
      },
      "source": [
        "!unzip \"/content/dogs-vs-cats.zip\""
      ],
      "execution_count": null,
      "outputs": []
    },
    {
      "cell_type": "markdown",
      "metadata": {
        "id": "kaUYSVGF4iOi"
      },
      "source": [
        "Create file to seperate cats and dogs images"
      ]
    },
    {
      "cell_type": "code",
      "metadata": {
        "id": "WWi85FMM4k6K"
      },
      "source": [
        "os.mkdir('/content/train/train/cat') \n",
        "os.mkdir('/content/train/train/dog') \n",
        "os.mkdir('/content/my_test') \n",
        "os.mkdir('/content/my_test/cat') \n",
        "os.mkdir('/content/my_test/dog') "
      ],
      "execution_count": 47,
      "outputs": []
    },
    {
      "cell_type": "markdown",
      "metadata": {
        "id": "0A4sn_yV4wyB"
      },
      "source": [
        "Seperate Train data"
      ]
    },
    {
      "cell_type": "code",
      "metadata": {
        "id": "wQGltslW437Z"
      },
      "source": [
        "import shutil\n",
        "# shutil.move('/content/train/train/cat.0.jpg','/content/train/train/cat/')\n",
        "\n",
        "for image in glob.glob('/content/train/train/*.*.jpg'):\n",
        "  if image[21:24] == 'cat':\n",
        "    shutil.move(image,'/content/train/train/cat/')\n",
        "  else:\n",
        "    shutil.move(image,'/content/train/train/dog/')"
      ],
      "execution_count": 7,
      "outputs": []
    },
    {
      "cell_type": "markdown",
      "metadata": {
        "id": "OeA6FWh-pZ_j"
      },
      "source": [
        "Make test images"
      ]
    },
    {
      "cell_type": "code",
      "metadata": {
        "id": "jkMtGG4LlaHa"
      },
      "source": [
        "counter_cat = 0\n",
        "counter_dog = 0\n",
        "for image in glob.glob('/content/train/train/cat/*.*.jpg'):\n",
        "  if counter_cat < 500:\n",
        "    shutil.move(image,'/content/my_test/cat')\n",
        "    counter_cat = counter_cat + 1\n",
        "\n",
        "for image in glob.glob('/content/train/train/dog/*.*.jpg'):\n",
        "  if counter_dog < 500:\n",
        "    shutil.move(image,'/content/my_test/dog')\n",
        "    counter_dog = counter_dog + 1"
      ],
      "execution_count": 48,
      "outputs": []
    },
    {
      "cell_type": "markdown",
      "metadata": {
        "id": "q7mZ36mCzLoK"
      },
      "source": [
        "Make the model"
      ]
    },
    {
      "cell_type": "code",
      "metadata": {
        "colab": {
          "base_uri": "https://localhost:8080/"
        },
        "id": "gAHbcCQHZOSo",
        "outputId": "ae565b2e-a5c6-4af4-9d6f-e81d5757f603"
      },
      "source": [
        "from keras import layers\n",
        "from keras import models\n",
        "\n",
        "model = models.Sequential()\n",
        "model.add(layers.Conv2D(32 ,(3,3) , activation='relu', input_shape=(150,150,3)))\n",
        "model.add(layers.MaxPooling2D(2,2))\n",
        "model.add(layers.Conv2D(64 ,(3,3), activation='relu'))\n",
        "model.add(layers.MaxPooling2D(2,2))\n",
        "# model.add(layers.Dropout(0.2))\n",
        "model.add(layers.Conv2D(128 ,(3,3), activation='relu'))\n",
        "model.add(layers.MaxPooling2D(2,2))\n",
        "model.add(layers.Conv2D(128 ,(3,3), activation='relu'))\n",
        "model.add(layers.MaxPooling2D(2,2))\n",
        "# model.add(layers.Dropout(0.3))\n",
        "model.add(layers.Flatten())\n",
        "# model.add(layers.Dropout(0.3))\n",
        "model.add(layers.Dense(512, activation='relu'))\n",
        "model.add(layers.Dense(1, activation='sigmoid'))\n",
        "\n",
        "model.summary()"
      ],
      "execution_count": 8,
      "outputs": [
        {
          "output_type": "stream",
          "name": "stdout",
          "text": [
            "Model: \"sequential\"\n",
            "_________________________________________________________________\n",
            " Layer (type)                Output Shape              Param #   \n",
            "=================================================================\n",
            " conv2d (Conv2D)             (None, 148, 148, 32)      896       \n",
            "                                                                 \n",
            " max_pooling2d (MaxPooling2D  (None, 74, 74, 32)       0         \n",
            " )                                                               \n",
            "                                                                 \n",
            " conv2d_1 (Conv2D)           (None, 72, 72, 64)        18496     \n",
            "                                                                 \n",
            " max_pooling2d_1 (MaxPooling  (None, 36, 36, 64)       0         \n",
            " 2D)                                                             \n",
            "                                                                 \n",
            " conv2d_2 (Conv2D)           (None, 34, 34, 128)       73856     \n",
            "                                                                 \n",
            " max_pooling2d_2 (MaxPooling  (None, 17, 17, 128)      0         \n",
            " 2D)                                                             \n",
            "                                                                 \n",
            " conv2d_3 (Conv2D)           (None, 15, 15, 128)       147584    \n",
            "                                                                 \n",
            " max_pooling2d_3 (MaxPooling  (None, 7, 7, 128)        0         \n",
            " 2D)                                                             \n",
            "                                                                 \n",
            " flatten (Flatten)           (None, 6272)              0         \n",
            "                                                                 \n",
            " dense (Dense)               (None, 512)               3211776   \n",
            "                                                                 \n",
            " dense_1 (Dense)             (None, 1)                 513       \n",
            "                                                                 \n",
            "=================================================================\n",
            "Total params: 3,453,121\n",
            "Trainable params: 3,453,121\n",
            "Non-trainable params: 0\n",
            "_________________________________________________________________\n"
          ]
        }
      ]
    },
    {
      "cell_type": "code",
      "metadata": {
        "id": "3hzuVzxrbzYP"
      },
      "source": [
        "model.compile( loss='binary_crossentropy', optimizer='nadam', metrics=['acc'])"
      ],
      "execution_count": 9,
      "outputs": []
    },
    {
      "cell_type": "markdown",
      "metadata": {
        "id": "uTYZIXuRXvTx"
      },
      "source": [
        "Data augmentation"
      ]
    },
    {
      "cell_type": "code",
      "metadata": {
        "id": "mU5d4BGPXyTx"
      },
      "source": [
        "from keras.preprocessing.image import ImageDataGenerator\n",
        "\n",
        "train_datagen = ImageDataGenerator(\n",
        "    rescale=1./255,\n",
        "    rotation_range = 40,\n",
        "    width_shift_range = 0.2,\n",
        "    height_shift_range = 0.2,\n",
        "    shear_range = 0.2,\n",
        "    zoom_range = 0.2,\n",
        "    horizontal_flip = True\n",
        ")\n",
        "\n",
        "test_datagen = ImageDataGenerator(\n",
        "    rescale=1./255,\n",
        "    rotation_range = 40,\n",
        "    width_shift_range = 0.2,\n",
        "    height_shift_range = 0.2,\n",
        "    shear_range = 0.2,\n",
        "    zoom_range = 0.2,\n",
        "    horizontal_flip = True\n",
        ")"
      ],
      "execution_count": 51,
      "outputs": []
    },
    {
      "cell_type": "markdown",
      "metadata": {
        "id": "4x55bEGkd-Ya"
      },
      "source": [
        "Preprocessing "
      ]
    },
    {
      "cell_type": "code",
      "metadata": {
        "colab": {
          "base_uri": "https://localhost:8080/"
        },
        "id": "3oV7doPid859",
        "outputId": "66df1c54-a579-44bb-fa4b-b7f305c3fb52"
      },
      "source": [
        "from keras.preprocessing.image import ImageDataGenerator\n",
        "\n",
        "train_generator = train_datagen.flow_from_directory(\n",
        "       '/content/train/train',\n",
        "       target_size = (150,150),\n",
        "       batch_size = 20,\n",
        "       class_mode = 'binary')\n",
        "\n",
        "test_generator = test_datagen.flow_from_directory(\n",
        "       '/content/my_test',\n",
        "       target_size = (150,150),\n",
        "       batch_size = 20,\n",
        "       class_mode = 'binary')"
      ],
      "execution_count": 53,
      "outputs": [
        {
          "output_type": "stream",
          "name": "stdout",
          "text": [
            "Found 24000 images belonging to 2 classes.\n",
            "Found 1000 images belonging to 2 classes.\n"
          ]
        }
      ]
    },
    {
      "cell_type": "code",
      "metadata": {
        "id": "xTcshoIYzTuW",
        "colab": {
          "base_uri": "https://localhost:8080/"
        },
        "outputId": "a2dcdff9-922c-4156-e32e-50940ee55d87"
      },
      "source": [
        "history = model.fit_generator(\n",
        "    train_generator,\n",
        "    steps_per_epoch=100,\n",
        "    epochs=40,\n",
        "    validation_data = test_generator,\n",
        "    validation_steps = 50)"
      ],
      "execution_count": 55,
      "outputs": [
        {
          "output_type": "stream",
          "name": "stderr",
          "text": [
            "/usr/local/lib/python3.7/dist-packages/ipykernel_launcher.py:6: UserWarning: `Model.fit_generator` is deprecated and will be removed in a future version. Please use `Model.fit`, which supports generators.\n",
            "  \n"
          ]
        },
        {
          "output_type": "stream",
          "name": "stdout",
          "text": [
            "Epoch 1/40\n",
            "100/100 [==============================] - 27s 270ms/step - loss: 0.5011 - acc: 0.7445 - val_loss: 0.4836 - val_acc: 0.7690\n",
            "Epoch 2/40\n",
            "100/100 [==============================] - 27s 266ms/step - loss: 0.5012 - acc: 0.7555 - val_loss: 0.4939 - val_acc: 0.7640\n",
            "Epoch 3/40\n",
            "100/100 [==============================] - 27s 266ms/step - loss: 0.5035 - acc: 0.7510 - val_loss: 0.5094 - val_acc: 0.7410\n",
            "Epoch 4/40\n",
            "100/100 [==============================] - 27s 266ms/step - loss: 0.4873 - acc: 0.7720 - val_loss: 0.4991 - val_acc: 0.7500\n",
            "Epoch 5/40\n",
            "100/100 [==============================] - 26s 265ms/step - loss: 0.4744 - acc: 0.7785 - val_loss: 0.4607 - val_acc: 0.7910\n",
            "Epoch 6/40\n",
            "100/100 [==============================] - 27s 266ms/step - loss: 0.4834 - acc: 0.7685 - val_loss: 0.4787 - val_acc: 0.7760\n",
            "Epoch 7/40\n",
            "100/100 [==============================] - 27s 267ms/step - loss: 0.4747 - acc: 0.7765 - val_loss: 0.5040 - val_acc: 0.7490\n",
            "Epoch 8/40\n",
            "100/100 [==============================] - 27s 267ms/step - loss: 0.4781 - acc: 0.7785 - val_loss: 0.4789 - val_acc: 0.7740\n",
            "Epoch 9/40\n",
            "100/100 [==============================] - 27s 268ms/step - loss: 0.4447 - acc: 0.7955 - val_loss: 0.5153 - val_acc: 0.7590\n",
            "Epoch 10/40\n",
            "100/100 [==============================] - 27s 271ms/step - loss: 0.4760 - acc: 0.7775 - val_loss: 0.4364 - val_acc: 0.8020\n",
            "Epoch 11/40\n",
            "100/100 [==============================] - 27s 269ms/step - loss: 0.4465 - acc: 0.7960 - val_loss: 0.4571 - val_acc: 0.7970\n",
            "Epoch 12/40\n",
            "100/100 [==============================] - 27s 268ms/step - loss: 0.4599 - acc: 0.7865 - val_loss: 0.4312 - val_acc: 0.8170\n",
            "Epoch 13/40\n",
            "100/100 [==============================] - 27s 267ms/step - loss: 0.4389 - acc: 0.8005 - val_loss: 0.5318 - val_acc: 0.7380\n",
            "Epoch 14/40\n",
            "100/100 [==============================] - 27s 268ms/step - loss: 0.4482 - acc: 0.7970 - val_loss: 0.4230 - val_acc: 0.8220\n",
            "Epoch 15/40\n",
            "100/100 [==============================] - 27s 266ms/step - loss: 0.4349 - acc: 0.7960 - val_loss: 0.4436 - val_acc: 0.7950\n",
            "Epoch 16/40\n",
            "100/100 [==============================] - 27s 267ms/step - loss: 0.4566 - acc: 0.7920 - val_loss: 0.4685 - val_acc: 0.7710\n",
            "Epoch 17/40\n",
            "100/100 [==============================] - 27s 267ms/step - loss: 0.4212 - acc: 0.8030 - val_loss: 0.4467 - val_acc: 0.7960\n",
            "Epoch 18/40\n",
            "100/100 [==============================] - 27s 268ms/step - loss: 0.4388 - acc: 0.7880 - val_loss: 0.3947 - val_acc: 0.8310\n",
            "Epoch 19/40\n",
            "100/100 [==============================] - 26s 265ms/step - loss: 0.4154 - acc: 0.8110 - val_loss: 0.4204 - val_acc: 0.8090\n",
            "Epoch 20/40\n",
            "100/100 [==============================] - 27s 266ms/step - loss: 0.4057 - acc: 0.8190 - val_loss: 0.4060 - val_acc: 0.8040\n",
            "Epoch 21/40\n",
            "100/100 [==============================] - 27s 266ms/step - loss: 0.4248 - acc: 0.8035 - val_loss: 0.4192 - val_acc: 0.8140\n",
            "Epoch 22/40\n",
            "100/100 [==============================] - 27s 268ms/step - loss: 0.4113 - acc: 0.8185 - val_loss: 0.4137 - val_acc: 0.8150\n",
            "Epoch 23/40\n",
            "100/100 [==============================] - 27s 267ms/step - loss: 0.4144 - acc: 0.8100 - val_loss: 0.4175 - val_acc: 0.8100\n",
            "Epoch 24/40\n",
            "100/100 [==============================] - 26s 265ms/step - loss: 0.3910 - acc: 0.8235 - val_loss: 0.3876 - val_acc: 0.8360\n",
            "Epoch 25/40\n",
            "100/100 [==============================] - 27s 271ms/step - loss: 0.3895 - acc: 0.8260 - val_loss: 0.4085 - val_acc: 0.8230\n",
            "Epoch 26/40\n",
            "100/100 [==============================] - 27s 268ms/step - loss: 0.3937 - acc: 0.8130 - val_loss: 0.3947 - val_acc: 0.8180\n",
            "Epoch 27/40\n",
            "100/100 [==============================] - 27s 271ms/step - loss: 0.4130 - acc: 0.8085 - val_loss: 0.4116 - val_acc: 0.8310\n",
            "Epoch 28/40\n",
            "100/100 [==============================] - 27s 268ms/step - loss: 0.3961 - acc: 0.8335 - val_loss: 0.4421 - val_acc: 0.8090\n",
            "Epoch 29/40\n",
            "100/100 [==============================] - 26s 265ms/step - loss: 0.4096 - acc: 0.8060 - val_loss: 0.3905 - val_acc: 0.8330\n",
            "Epoch 30/40\n",
            "100/100 [==============================] - 27s 268ms/step - loss: 0.3861 - acc: 0.8335 - val_loss: 0.3979 - val_acc: 0.8190\n",
            "Epoch 31/40\n",
            "100/100 [==============================] - 27s 266ms/step - loss: 0.3815 - acc: 0.8320 - val_loss: 0.3912 - val_acc: 0.8250\n",
            "Epoch 32/40\n",
            "100/100 [==============================] - 27s 270ms/step - loss: 0.3866 - acc: 0.8310 - val_loss: 0.4088 - val_acc: 0.8270\n",
            "Epoch 33/40\n",
            "100/100 [==============================] - 27s 267ms/step - loss: 0.3964 - acc: 0.8300 - val_loss: 0.3872 - val_acc: 0.8260\n",
            "Epoch 34/40\n",
            "100/100 [==============================] - 27s 267ms/step - loss: 0.3646 - acc: 0.8345 - val_loss: 0.4572 - val_acc: 0.7820\n",
            "Epoch 35/40\n",
            "100/100 [==============================] - 27s 271ms/step - loss: 0.3886 - acc: 0.8165 - val_loss: 0.3732 - val_acc: 0.8400\n",
            "Epoch 36/40\n",
            "100/100 [==============================] - 27s 266ms/step - loss: 0.3754 - acc: 0.8310 - val_loss: 0.3787 - val_acc: 0.8230\n",
            "Epoch 37/40\n",
            "100/100 [==============================] - 26s 265ms/step - loss: 0.3630 - acc: 0.8450 - val_loss: 0.4107 - val_acc: 0.8140\n",
            "Epoch 38/40\n",
            "100/100 [==============================] - 26s 265ms/step - loss: 0.3679 - acc: 0.8415 - val_loss: 0.3700 - val_acc: 0.8490\n",
            "Epoch 39/40\n",
            "100/100 [==============================] - 27s 268ms/step - loss: 0.3548 - acc: 0.8440 - val_loss: 0.4020 - val_acc: 0.8170\n",
            "Epoch 40/40\n",
            "100/100 [==============================] - 27s 266ms/step - loss: 0.3578 - acc: 0.8380 - val_loss: 0.3722 - val_acc: 0.8210\n"
          ]
        }
      ]
    },
    {
      "cell_type": "markdown",
      "metadata": {
        "id": "MQl8ftbyjxPt"
      },
      "source": [
        "Save model"
      ]
    },
    {
      "cell_type": "code",
      "metadata": {
        "id": "bfTyK_yPjyuT"
      },
      "source": [
        "model.save('cats_and_dogs_small_2.h5')"
      ],
      "execution_count": null,
      "outputs": []
    },
    {
      "cell_type": "markdown",
      "metadata": {
        "id": "hNtjjp33kD5L"
      },
      "source": [
        "Recall the model"
      ]
    },
    {
      "cell_type": "code",
      "metadata": {
        "id": "w7QVtEuAkG1a"
      },
      "source": [
        "from tensorflow import keras\n",
        "\n",
        "call_model=keras.models.load_model('/content/cats_and_dogs_small_2.h5')"
      ],
      "execution_count": null,
      "outputs": []
    },
    {
      "cell_type": "markdown",
      "metadata": {
        "id": "Uvyj-gNApZ8q"
      },
      "source": [
        "Plot Diagrams"
      ]
    },
    {
      "cell_type": "code",
      "metadata": {
        "colab": {
          "base_uri": "https://localhost:8080/",
          "height": 513
        },
        "id": "oKwawJBTpZji",
        "outputId": "01a6a5b2-6e45-4316-8b77-51a0b4c5ba92"
      },
      "source": [
        "import matplotlib.pyplot as plt\n",
        "\n",
        "plt.plot(history.history['acc'])\n",
        "plt.plot(history.history['val_acc'])\n",
        "plt.show()\n",
        "\n",
        "plt.plot(history.history['loss'])\n",
        "plt.plot(history.history['val_loss'])\n",
        "plt.show()"
      ],
      "execution_count": 56,
      "outputs": [
        {
          "output_type": "display_data",
          "data": {
            "image/png": "[encoded data removed]",
            "text/plain": [
              "<Figure size 432x288 with 1 Axes>"
            ]
          },
          "metadata": {
            "needs_background": "light"
          }
        },
        {
          "output_type": "display_data",
          "data": {
            "image/png": "[encoded data removed]",
            "text/plain": [
              "<Figure size 432x288 with 1 Axes>"
            ]
          },
          "metadata": {
            "needs_background": "light"
          }
        }
      ]
    },
    {
      "cell_type": "markdown",
      "metadata": {
        "id": "7Ug9-f_Hax4P"
      },
      "source": [
        "Test model with a new picture from test folder in root directory"
      ]
    },
    {
      "cell_type": "code",
      "metadata": {
        "colab": {
          "base_uri": "https://localhost:8080/"
        },
        "id": "PKTiTbZta1hI",
        "outputId": "a2416906-7669-4c0f-b60f-31739c58d0fc"
      },
      "source": [
        "import cv2\n",
        "\n",
        "cat_image = cv2.imread('/content/test/test/10064.jpg')\n",
        "cat_image = cv2.resize(cat_image,(150,150))\n",
        "# cat_image.shape\n",
        "cat_image = cat_image.reshape((1,) + cat_image.shape)\n",
        "\n",
        "result = model.predict(cat_image)\n",
        "result = np.round(result,3)\n",
        "result"
      ],
      "execution_count": 57,
      "outputs": [
        {
          "output_type": "execute_result",
          "data": {
            "text/plain": [
              "array([[1.]], dtype=float32)"
            ]
          },
          "metadata": {},
          "execution_count": 57
        }
      ]
    }
  ]
}